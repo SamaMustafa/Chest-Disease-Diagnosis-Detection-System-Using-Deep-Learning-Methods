{
 "cells": [
  {
   "cell_type": "code",
   "execution_count": 1,
   "metadata": {},
   "outputs": [
    {
     "name": "stderr",
     "output_type": "stream",
     "text": [
      "c:\\Users\\abdel\\.conda\\envs\\tensorflow\\lib\\site-packages\\numpy\\_distributor_init.py:30: UserWarning: loaded more than 1 DLL from .libs:\n",
      "c:\\Users\\abdel\\.conda\\envs\\tensorflow\\lib\\site-packages\\numpy\\.libs\\libopenblas.FB5AE2TYXYH2IJRDKGDGQ3XBKLKTF43H.gfortran-win_amd64.dll\n",
      "c:\\Users\\abdel\\.conda\\envs\\tensorflow\\lib\\site-packages\\numpy\\.libs\\libopenblas.NOIJJG62EMASZI6NYURL6JBKM4EVBGM7.gfortran-win_amd64.dll\n",
      "  warnings.warn(\"loaded more than 1 DLL from .libs:\"\n"
     ]
    }
   ],
   "source": [
    "import tensorflow as tf\n",
    "import tensorflow_hub as hub\n",
    "import numpy as np\n",
    "import os\n",
    "from sklearn.model_selection import train_test_split"
   ]
  },
  {
   "cell_type": "code",
   "execution_count": 2,
   "metadata": {},
   "outputs": [
    {
     "name": "stdout",
     "output_type": "stream",
     "text": [
      "Found 37680 images belonging to 5 classes.\n",
      "Found 13068 images belonging to 5 classes.\n",
      "Found 6540 images belonging to 5 classes.\n"
     ]
    }
   ],
   "source": [
    "# Define data path\n",
    "train_data_dir = \"Images/SEMI-BALANCED/Train\"\n",
    "validation_data_dir = \"Images/SEMI-BALANCED/Valid\"\n",
    "test_data_dir = \"Images/SEMI-BALANCED/Test\"\n",
    "\n",
    "\n",
    "# Define hyperparameters\n",
    "IMAGE_SIZE = 160\n",
    "BATCH_SIZE = 32\n",
    "LEARNING_RATE = 0.001\n",
    "NUM_EPOCHS = 30\n",
    "NUM_CLASSES = 5\n",
    "# Load MobileNet V2 pre-trained model\n",
    "mobilenet_v2 = tf.keras.applications.MobileNetV2(input_shape=(IMAGE_SIZE, IMAGE_SIZE, 3),\n",
    "                                                 include_top=False,\n",
    "                                                 weights='imagenet')\n",
    "\n",
    "\n",
    "# Load data and split into training and validation sets\n",
    "train_datagen = tf.keras.preprocessing.image.ImageDataGenerator(rescale=1. / 255,)\n",
    "val_datagen = tf.keras.preprocessing.image.ImageDataGenerator(rescale=1. / 255)\n",
    "test_datagen = tf.keras.preprocessing.image.ImageDataGenerator(rescale=1. / 255)\n",
    "\n",
    "train_generator = train_datagen.flow_from_directory(train_data_dir,\n",
    "                                                    target_size=(IMAGE_SIZE, IMAGE_SIZE),\n",
    "                                                    batch_size=BATCH_SIZE,\n",
    "                                                    class_mode='categorical')\n",
    "\n",
    "val_generator = val_datagen.flow_from_directory(validation_data_dir,\n",
    "                                                target_size=(IMAGE_SIZE, IMAGE_SIZE),\n",
    "                                                batch_size=16,\n",
    "                                                class_mode='categorical')\n",
    "\n",
    "test_generator = test_datagen.flow_from_directory(test_data_dir,\n",
    "                                                target_size=(IMAGE_SIZE, IMAGE_SIZE),\n",
    "                                                batch_size=16,\n",
    "                                                shuffle=False,\n",
    "                                                class_mode='categorical')"
   ]
  },
  {
   "cell_type": "code",
   "execution_count": 3,
   "metadata": {},
   "outputs": [
    {
     "name": "stderr",
     "output_type": "stream",
     "text": [
      "C:\\Users\\abdel\\AppData\\Roaming\\Python\\Python39\\site-packages\\tensorflow\\python\\keras\\optimizer_v2\\optimizer_v2.py:374: UserWarning: The `lr` argument is deprecated, use `learning_rate` instead.\n",
      "  warnings.warn(\n"
     ]
    }
   ],
   "source": [
    "# Add a global average pooling layer and a dense output layer\n",
    "#Model 1\n",
    "# for layer in mobilenet_v2.layers[:-4]:\n",
    "#     layer.trainable = False\n",
    "    \n",
    "# global_average_layer = tf.keras.layers.GlobalAveragePooling2D()(mobilenet_v2.output)\n",
    "# flatten = tf.keras.layers.Flatten()(global_average_layer)\n",
    "# dense1 = tf.keras.layers.Dense(512, 'relu')(flatten)\n",
    "# dropout1 = tf.keras.layers.Dropout(0.5)(dense1)\n",
    "# dense2 = tf.keras.layers.Dense(256, 'relu')(dropout1)\n",
    "# dropout2 = tf.keras.layers.Dropout(0.5)(dense2)\n",
    "# output_layer = tf.keras.layers.Dense(NUM_CLASSES, activation='softmax')(dropout2)\n",
    "# ----------------------------------------\n",
    "#Model 2\n",
    "for layer in mobilenet_v2.layers[:-5]:\n",
    "    layer.trainable = False\n",
    "\n",
    "global_average_layer = tf.keras.layers.GlobalAveragePooling2D()(mobilenet_v2.output)\n",
    "output_layer = tf.keras.layers.Dense(NUM_CLASSES, activation='softmax')(global_average_layer)\n",
    "model = tf.keras.models.Model(inputs=mobilenet_v2.input, outputs=output_layer)\n",
    "# ----------------------------------------\n",
    "#Model 3\n",
    "# base_model = tf.keras.applications.MobileNetV2(input_shape=(IMAGE_SIZE, IMAGE_SIZE, 3),\n",
    "#                          include_top=False,\n",
    "#                          weights='imagenet')\n",
    "\n",
    "# # freeze the base model layers\n",
    "# base_model.trainable = False\n",
    "\n",
    "# # add the classification head\n",
    "# model = tf.keras.Sequential([\n",
    "#     base_model,\n",
    "#     tf.keras.layers.GlobalAveragePooling2D(),\n",
    "#     tf.keras.layers.Dense(5, activation='softmax')\n",
    "# ])\n",
    "# Define the model\n",
    "\n",
    "# Compile the model\n",
    "model.compile(optimizer=tf.keras.optimizers.Adam(lr=LEARNING_RATE),\n",
    "              loss='categorical_crossentropy',\n",
    "              metrics=['accuracy'])"
   ]
  },
  {
   "cell_type": "code",
   "execution_count": 4,
   "metadata": {},
   "outputs": [
    {
     "name": "stdout",
     "output_type": "stream",
     "text": [
      "Epoch 1/10\n",
      "1178/1178 [==============================] - 1984s 2s/step - loss: 1.0028 - accuracy: 0.6037 - val_loss: 16.2366 - val_accuracy: 0.1844\n",
      "\n",
      "Testing loss: 15.910932540893555, accuracy: 0.1839449554681778\n",
      "\n",
      "Epoch 2/10\n",
      "1178/1178 [==============================] - 64s 54ms/step - loss: 0.8261 - accuracy: 0.6783 - val_loss: 4.6677 - val_accuracy: 0.3013\n",
      "\n",
      "Testing loss: 4.13379430770874, accuracy: 0.3255351781845093\n",
      "\n",
      "Epoch 3/10\n",
      "1178/1178 [==============================] - 64s 55ms/step - loss: 0.7489 - accuracy: 0.7094 - val_loss: 9.4131 - val_accuracy: 0.1928\n",
      "\n",
      "Testing loss: 8.879566192626953, accuracy: 0.1948012262582779\n",
      "\n",
      "Epoch 4/10\n",
      "1178/1178 [==============================] - 64s 55ms/step - loss: 0.6930 - accuracy: 0.7306 - val_loss: 2.6685 - val_accuracy: 0.5370\n",
      "\n",
      "Testing loss: 2.3172178268432617, accuracy: 0.5850152969360352\n",
      "\n",
      "Epoch 5/10\n",
      "1178/1178 [==============================] - 64s 54ms/step - loss: 0.6569 - accuracy: 0.7437 - val_loss: 1.1935 - val_accuracy: 0.6631\n",
      "\n",
      "Testing loss: 0.8579609394073486, accuracy: 0.7483180165290833\n",
      "\n",
      "Epoch 6/10\n",
      "1178/1178 [==============================] - 64s 54ms/step - loss: 0.6140 - accuracy: 0.7611 - val_loss: 0.9127 - val_accuracy: 0.6859\n",
      "\n",
      "Testing loss: 0.6016124486923218, accuracy: 0.7972477078437805\n",
      "\n",
      "Epoch 7/10\n",
      "1178/1178 [==============================] - 65s 55ms/step - loss: 0.5862 - accuracy: 0.7727 - val_loss: 0.8976 - val_accuracy: 0.6885\n",
      "\n",
      "Testing loss: 0.5993841290473938, accuracy: 0.7980122566223145\n",
      "\n",
      "Epoch 8/10\n",
      "1178/1178 [==============================] - 65s 55ms/step - loss: 0.5555 - accuracy: 0.7840 - val_loss: 0.8563 - val_accuracy: 0.7061\n",
      "\n",
      "Testing loss: 0.5441256165504456, accuracy: 0.8240061402320862\n",
      "\n",
      "Epoch 9/10\n",
      "1178/1178 [==============================] - 64s 55ms/step - loss: 0.5205 - accuracy: 0.7986 - val_loss: 0.9507 - val_accuracy: 0.6889\n",
      "\n",
      "Testing loss: 0.5790117979049683, accuracy: 0.8119266033172607\n",
      "\n",
      "Epoch 10/10\n",
      "1178/1178 [==============================] - 64s 55ms/step - loss: 0.4903 - accuracy: 0.8095 - val_loss: 0.7611 - val_accuracy: 0.7239\n",
      "\n",
      "Testing loss: 0.5186330676078796, accuracy: 0.8198776841163635\n",
      "\n"
     ]
    }
   ],
   "source": [
    "# x_train, x_val, y_train, y_val = train_test_split(data[0][0], data[0][1], test_size=0.2, random_state=42)\n",
    "# print(x_train.shape, x_val.shape)\n",
    "# train_generator = tf.data.Dataset.from_tensor_slices((x_train, y_train))\n",
    "# train_generator = train_generator.shuffle(buffer_size=1024).batch(BATCH_SIZE)\n",
    "\n",
    "# val_generator = tf.data.Dataset.from_tensor_slices((x_val, y_val))\n",
    "# val_generator = val_generator.batch(BATCH_SIZE)\n",
    "\n",
    "# Train the model\n",
    "from tensorflow.keras.callbacks import ReduceLROnPlateau, EarlyStopping\n",
    "\n",
    "class EvaluateEpochEnd(tf.keras.callbacks.Callback):\n",
    "    def __init__(self, test_data):\n",
    "        self.test_data = test_data\n",
    "\n",
    "    def on_epoch_end(self, epoch, logs={}):\n",
    "        \n",
    "        scores = self.model.evaluate(self.test_data, verbose=False)\n",
    "        print('\\nTesting loss: {}, accuracy: {}\\n'.format(scores[0], scores[1]))\n",
    "\n",
    "reduce_lr = ReduceLROnPlateau(monitor='val_loss', factor=0.2, patience=3, verbose=1, min_lr=1e-6)\n",
    "early_stop = EarlyStopping(monitor='val_loss', patience=5)\n",
    "\n",
    "callbacks=[reduce_lr, early_stop, EvaluateEpochEnd(test_generator)]\n",
    "history = model.fit(train_generator,\n",
    "                    steps_per_epoch=len(train_generator),\n",
    "                    epochs=10,\n",
    "                    validation_data=val_generator,\n",
    "                    validation_steps=len(val_generator),\n",
    "                    callbacks=callbacks)"
   ]
  },
  {
   "cell_type": "code",
   "execution_count": 5,
   "metadata": {},
   "outputs": [
    {
     "name": "stdout",
     "output_type": "stream",
     "text": [
      "409/409 [==============================] - 9s 23ms/step - loss: 0.5186 - accuracy: 0.8199\n",
      "Test loss: 0.5186330676078796\n",
      "Test accuracy: 0.8198776841163635\n"
     ]
    }
   ],
   "source": [
    "test_loss, test_accuracy = model.evaluate(test_generator, steps=len(test_generator))\n",
    "\n",
    "print('Test loss:', test_loss)\n",
    "print('Test accuracy:', test_accuracy)"
   ]
  },
  {
   "cell_type": "code",
   "execution_count": 6,
   "metadata": {},
   "outputs": [
    {
     "name": "stdout",
     "output_type": "stream",
     "text": [
      "accuracy score 0.8198776758409786\n",
      "              precision    recall  f1-score   support\n",
      "\n",
      "           0       0.88      0.80      0.84       838\n",
      "           1       0.59      0.95      0.73      1203\n",
      "           2       0.92      0.75      0.83      2039\n",
      "           3       0.95      0.83      0.89      1480\n",
      "           4       0.89      0.80      0.84       980\n",
      "\n",
      "    accuracy                           0.82      6540\n",
      "   macro avg       0.85      0.83      0.82      6540\n",
      "weighted avg       0.86      0.82      0.83      6540\n",
      "\n"
     ]
    },
    {
     "data": {
      "image/png": "[encoded data removed]",
      "text/plain": [
       "<Figure size 720x576 with 2 Axes>"
      ]
     },
     "metadata": {
      "needs_background": "light"
     },
     "output_type": "display_data"
    }
   ],
   "source": [
    "from sklearn.metrics import confusion_matrix, f1_score, classification_report, accuracy_score\n",
    "import numpy as np\n",
    "import matplotlib.pyplot as plt\n",
    "import seaborn as sns\n",
    "\n",
    "Y_pred = model.predict(test_generator)\n",
    "y_pred = np.argmax(Y_pred, axis=1)\n",
    "y_true = test_generator.classes\n",
    "class_names = [0, 1, 2, 3, 4]\n",
    "print('accuracy score', accuracy_score(y_true, y_pred))\n",
    "confusion_mtx = confusion_matrix(y_true, y_pred)\n",
    "fig, ax = plt.subplots(figsize=(10, 8))\n",
    "cr = classification_report(y_true, y_pred)\n",
    "print(cr)\n",
    "sns.heatmap(confusion_mtx, annot=True, cmap=\"Blues\", xticklabels=class_names, yticklabels=class_names, ax=ax)\n",
    "ax.set_xlabel('Predicted labels')\n",
    "ax.set_ylabel('True labels')\n",
    "ax.set_title('Confusion Matrix')\n",
    "plt.show()"
   ]
  },
  {
   "cell_type": "code",
   "execution_count": 7,
   "metadata": {},
   "outputs": [
    {
     "name": "stdout",
     "output_type": "stream",
     "text": [
      "[[ 669   96   18   25   30]\n",
      " [   7 1141   44   10    1]\n",
      " [  15  447 1534   11   32]\n",
      " [  25  175   14 1233   33]\n",
      " [  45   77   59   14  785]]\n"
     ]
    }
   ],
   "source": [
    "print(confusion_mtx)"
   ]
  }
 ],
 "metadata": {
  "kernelspec": {
   "display_name": "tensorflow",
   "language": "python",
   "name": "python3"
  },
  "language_info": {
   "codemirror_mode": {
    "name": "ipython",
    "version": 3
   },
   "file_extension": ".py",
   "mimetype": "text/x-python",
   "name": "python",
   "nbconvert_exporter": "python",
   "pygments_lexer": "ipython3",
   "version": "3.9.12"
  },
  "orig_nbformat": 4
 },
 "nbformat": 4,
 "nbformat_minor": 2
}
