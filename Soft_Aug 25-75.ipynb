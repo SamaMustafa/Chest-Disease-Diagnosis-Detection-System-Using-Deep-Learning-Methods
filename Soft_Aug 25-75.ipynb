{
 "cells": [
  {
   "cell_type": "code",
   "execution_count": 2,
   "metadata": {},
   "outputs": [
    {
     "name": "stderr",
     "output_type": "stream",
     "text": [
      "c:\\Users\\abdel\\.conda\\envs\\tensorflow\\lib\\site-packages\\numpy\\_distributor_init.py:30: UserWarning: loaded more than 1 DLL from .libs:\n",
      "c:\\Users\\abdel\\.conda\\envs\\tensorflow\\lib\\site-packages\\numpy\\.libs\\libopenblas.FB5AE2TYXYH2IJRDKGDGQ3XBKLKTF43H.gfortran-win_amd64.dll\n",
      "c:\\Users\\abdel\\.conda\\envs\\tensorflow\\lib\\site-packages\\numpy\\.libs\\libopenblas.NOIJJG62EMASZI6NYURL6JBKM4EVBGM7.gfortran-win_amd64.dll\n",
      "  warnings.warn(\"loaded more than 1 DLL from .libs:\"\n"
     ]
    }
   ],
   "source": [
    "from tensorflow.keras.preprocessing.image import img_to_array\n",
    "import tensorflow\n",
    "\n",
    "from sklearn.model_selection import train_test_split\n",
    "from sklearn.metrics import classification_report\n",
    "from imutils import paths\n",
    "\n",
    "import numpy as np\n",
    "import random\n",
    "import cv2\n",
    "import os\n",
    "import matplotlib.pyplot as plt\n",
    "%matplotlib inline"
   ]
  },
  {
   "cell_type": "code",
   "execution_count": 3,
   "metadata": {},
   "outputs": [],
   "source": [
    "def seed_everything(seed=42):\n",
    "    # Random state is steady among the data\n",
    "    os.environ['PYTHONHASHSEED'] = str(seed)\n",
    "    random.seed(seed)\n",
    "    np.random.seed(seed)\n",
    "\n",
    "def find_indices(array, value):\n",
    "    return np.where(array == value)[0]"
   ]
  },
  {
   "attachments": {},
   "cell_type": "markdown",
   "metadata": {},
   "source": [
    "# Read test dataset and the number of elements in each class"
   ]
  },
  {
   "cell_type": "code",
   "execution_count": 14,
   "metadata": {},
   "outputs": [
    {
     "data": {
      "text/plain": [
       "array([ 838, 1203, 2039, 1480,  980], dtype=int64)"
      ]
     },
     "execution_count": 14,
     "metadata": {},
     "output_type": "execute_result"
    }
   ],
   "source": [
    "data_test = np.load('Dataset5_raw_test.npz')\n",
    "image_test, image_label_test = data_test['image'].astype(np.uint8), data_test['image_label'].astype(np.int8)\n",
    "unique, counts = np.unique(image_label_test, return_counts=True)\n",
    "counts"
   ]
  },
  {
   "attachments": {},
   "cell_type": "markdown",
   "metadata": {},
   "source": [
    "# Read train and valid dataset and make it balanced"
   ]
  },
  {
   "cell_type": "code",
   "execution_count": 4,
   "metadata": {},
   "outputs": [],
   "source": [
    "data_train = np.load('Dataset5_raw_train.npz')\n",
    "image_train, image_label_train = data_train['image'].astype(np.uint8), data_train['image_label'].astype(np.int8)"
   ]
  },
  {
   "cell_type": "code",
   "execution_count": 5,
   "metadata": {},
   "outputs": [
    {
     "data": {
      "text/plain": [
       "array([2326, 2326, 2326, 2326, 2326], dtype=int64)"
      ]
     },
     "execution_count": 5,
     "metadata": {},
     "output_type": "execute_result"
    }
   ],
   "source": [
    "X_train, y_train = image_train[:2326], image_label_train[:2326]\n",
    "for i in range(1, 5):\n",
    "    seed_everything()\n",
    "    train1_ind = find_indices(image_label_train, i)\n",
    "    np.random.shuffle(train1_ind)\n",
    "    X_train = np.concatenate([X_train, image_train[train1_ind[:2326]]])\n",
    "    y_train = np.concatenate([y_train, image_label_train[train1_ind[:2326]]])\n",
    "\n",
    "unique, counts = np.unique(y_train, return_counts=True)\n",
    "counts"
   ]
  },
  {
   "cell_type": "code",
   "execution_count": 6,
   "metadata": {},
   "outputs": [
    {
     "data": {
      "text/plain": [
       "array([ 836, 1202, 2038, 1479,  979], dtype=int64)"
      ]
     },
     "execution_count": 6,
     "metadata": {},
     "output_type": "execute_result"
    }
   ],
   "source": [
    "data_val = np.load('Dataset5_raw_val.npz')\n",
    "image_val, image_label_val = data_val['image'].astype(np.uint8), data_val['image_label'].astype(np.int8)\n",
    "unique, counts = np.unique(image_label_val, return_counts=True)\n",
    "counts"
   ]
  },
  {
   "cell_type": "code",
   "execution_count": 7,
   "metadata": {},
   "outputs": [
    {
     "data": {
      "text/plain": [
       "array([836, 836, 836, 836, 836], dtype=int64)"
      ]
     },
     "execution_count": 7,
     "metadata": {},
     "output_type": "execute_result"
    }
   ],
   "source": [
    "X_val, y_val = image_val[:836], image_label_val[:836]\n",
    "for i in range(1, 5):\n",
    "    seed_everything()\n",
    "    val1_ind = find_indices(image_label_val, i)\n",
    "    np.random.shuffle(val1_ind)\n",
    "    X_val = np.concatenate([X_val, image_val[val1_ind[:836]]])\n",
    "    y_val = np.concatenate([y_val, image_label_val[val1_ind[:836]]])\n",
    "    \n",
    "unique, counts = np.unique(y_val, return_counts=True)\n",
    "counts"
   ]
  },
  {
   "cell_type": "code",
   "execution_count": 8,
   "metadata": {},
   "outputs": [
    {
     "name": "stdout",
     "output_type": "stream",
     "text": [
      "[3162 3162 3162 3162 3162]\n"
     ]
    }
   ],
   "source": [
    "#Combining\n",
    "image_total = np.concatenate([X_train, X_val])\n",
    "label_total = np.concatenate([y_train, y_val])\n",
    "unique, counts = np.unique(label_total, return_counts=True)\n",
    "print(counts)\n",
    "# del X_train, X_val, y_train, y_val, image_train, image_label_train, image_val, image_label_val"
   ]
  },
  {
   "cell_type": "code",
   "execution_count": null,
   "metadata": {},
   "outputs": [],
   "source": [
    "for i in range(0, 5):\n",
    "    print('Class', i)\n",
    "    seed_everything()\n",
    "    val1_ind = find_indices(label_total, i)\n",
    "    np.random.shuffle(val1_ind)\n",
    "    if i == 0:\n",
    "        X_total = image_total[val1_ind[:1962]]\n",
    "        y_total = label_total[val1_ind[:1962]]\n",
    "    else:\n",
    "        X_total = np.concatenate([X_total, image_total[val1_ind[:1962]]])\n",
    "        y_total = np.concatenate([y_total, label_total[val1_ind[:1962]]])\n",
    "    \n",
    "unique, counts = np.unique(y_total, return_counts=True)\n",
    "counts"
   ]
  },
  {
   "attachments": {},
   "cell_type": "markdown",
   "metadata": {},
   "source": [
    "# Soft Augmentation"
   ]
  },
  {
   "cell_type": "code",
   "execution_count": 15,
   "metadata": {},
   "outputs": [],
   "source": [
    "import albumentations as A\n",
    "COUNT_TEST = 1\n",
    "\n",
    "#### Test dataset resizing only.\n",
    "for img, y in zip(image_test, image_label_test):\n",
    "  # img = cv2.cvtColor(x, cv2.COLOR_RGB2GRAY)\n",
    "  y_str = str(y[0])\n",
    "  resizeTransform = A.Compose([A.Resize(height=224, width=224, interpolation=1)], p=1)\n",
    "  new_img = resizeTransform(image = img)['image']\n",
    "  folder_to_save_img = \"Images/Soft Aug/Soft_Aug 25-75/Test\"\n",
    "  name_of_augmented_file = f\"{COUNT_TEST}.jpg\"\n",
    "  cv2.imwrite(f\"{folder_to_save_img}/{y_str}/{name_of_augmented_file}\", new_img)\n",
    "  COUNT_TEST+=1"
   ]
  },
  {
   "cell_type": "code",
   "execution_count": 16,
   "metadata": {},
   "outputs": [
    {
     "name": "stdout",
     "output_type": "stream",
     "text": [
      "Done Validation\n"
     ]
    }
   ],
   "source": [
    "COUNT=0\n",
    "for img, y in zip(X_total, y_total): #Imbalanced: image_val, image_label_val, Balanced: X_val, y_val\n",
    "  y_str = str(y[0])\n",
    "  for i in range(2):\n",
    "    resizeTransform = A.Compose([A.Resize(height=224, width=224, interpolation=1)], p=1)\n",
    "    new_img = resizeTransform(image = img)['image']\n",
    "    transform = A.Compose(\n",
    "    [\n",
    "      A.ImageCompression(quality_lower = 92, quality_upper=100, p=0.7),\n",
    "      A.HorizontalFlip(p = 0.5),\n",
    "      A.OneOf([\n",
    "        A.Rotate(limit=180, interpolation=1, border_mode=4, always_apply=False, p=0.7),\n",
    "        A.Rotate(limit=180, interpolation=1, border_mode=0, always_apply=False, p=0.3),\n",
    "      ], p = 0.7),\n",
    "      A.ShiftScaleRotate(p = 0.5),\n",
    "    ],\n",
    "    p = 0.9)\n",
    "    aug = transform(image = new_img)[\"image\"] \n",
    "    folder_to_save_img = \"Images/Soft Aug/Soft_Aug 25-75/Train\"\n",
    "    name_of_augmented_file = f\"{COUNT}.jpg\"\n",
    "    if i == 0:\n",
    "      image_to_save = new_img\n",
    "    else:\n",
    "      image_to_save = aug\n",
    "    cv2.imwrite(f\"{folder_to_save_img}/{y_str}/{name_of_augmented_file}\", image_to_save)\n",
    "    COUNT+=1\n",
    "print(\"Done Validation\")"
   ]
  },
  {
   "attachments": {},
   "cell_type": "markdown",
   "metadata": {},
   "source": [
    "# Number of elements in each class after the augmentation "
   ]
  },
  {
   "cell_type": "code",
   "execution_count": 17,
   "metadata": {},
   "outputs": [
    {
     "name": "stdout",
     "output_type": "stream",
     "text": [
      "0: \n",
      "3924\n",
      "1: \n",
      "3924\n",
      "2: \n",
      "3924\n",
      "3: \n",
      "3924\n",
      "4: \n",
      "3924\n",
      "total: 19620\n"
     ]
    }
   ],
   "source": [
    "sum = 0\n",
    "for i in range(5):\n",
    "    sum = sum + len(os.listdir(f'Images\\Soft Aug\\Soft_Aug 25-75/Train/{i}'))\n",
    "    print(f'{i}: ')\n",
    "    print(len(os.listdir(f'Images\\Soft Aug\\Soft_Aug 25-75/Train/{i}')))\n",
    "print(f'total: {sum}')\n"
   ]
  }
 ],
 "metadata": {
  "kernelspec": {
   "display_name": "tensorflow",
   "language": "python",
   "name": "python3"
  },
  "language_info": {
   "codemirror_mode": {
    "name": "ipython",
    "version": 3
   },
   "file_extension": ".py",
   "mimetype": "text/x-python",
   "name": "python",
   "nbconvert_exporter": "python",
   "pygments_lexer": "ipython3",
   "version": "3.9.12"
  },
  "orig_nbformat": 4
 },
 "nbformat": 4,
 "nbformat_minor": 2
}
