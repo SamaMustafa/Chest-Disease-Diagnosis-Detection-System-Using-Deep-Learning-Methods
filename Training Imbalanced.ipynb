{
 "cells": [
  {
   "cell_type": "code",
   "execution_count": 1,
   "metadata": {},
   "outputs": [
    {
     "name": "stderr",
     "output_type": "stream",
     "text": [
      "c:\\Users\\abdel\\.conda\\envs\\tensorflow\\lib\\site-packages\\numpy\\_distributor_init.py:30: UserWarning: loaded more than 1 DLL from .libs:\n",
      "c:\\Users\\abdel\\.conda\\envs\\tensorflow\\lib\\site-packages\\numpy\\.libs\\libopenblas.FB5AE2TYXYH2IJRDKGDGQ3XBKLKTF43H.gfortran-win_amd64.dll\n",
      "c:\\Users\\abdel\\.conda\\envs\\tensorflow\\lib\\site-packages\\numpy\\.libs\\libopenblas.NOIJJG62EMASZI6NYURL6JBKM4EVBGM7.gfortran-win_amd64.dll\n",
      "  warnings.warn(\"loaded more than 1 DLL from .libs:\"\n"
     ]
    }
   ],
   "source": [
    "import tensorflow as tf\n",
    "import tensorflow_hub as hub\n",
    "import numpy as np\n",
    "import os\n",
    "from sklearn.model_selection import train_test_split"
   ]
  },
  {
   "cell_type": "code",
   "execution_count": 2,
   "metadata": {},
   "outputs": [
    {
     "name": "stdout",
     "output_type": "stream",
     "text": [
      "Found 58830 images belonging to 5 classes.\n",
      "Found 13068 images belonging to 5 classes.\n",
      "Found 6540 images belonging to 5 classes.\n"
     ]
    }
   ],
   "source": [
    "# Define data path\n",
    "train_data_dir = \"Images/IMBALANCED/Train\"\n",
    "validation_data_dir = \"Images/IMBALANCED/Valid\"\n",
    "test_data_dir = \"Images/IMBALANCED/Test\"\n",
    "\n",
    "\n",
    "# Define hyperparameters\n",
    "IMAGE_SIZE = 160\n",
    "BATCH_SIZE = 32\n",
    "LEARNING_RATE = 0.001\n",
    "NUM_EPOCHS = 30\n",
    "NUM_CLASSES = 5\n",
    "# Load MobileNet V2 pre-trained model\n",
    "mobilenet_v2 = tf.keras.applications.MobileNetV2(input_shape=(IMAGE_SIZE, IMAGE_SIZE, 3),\n",
    "                                                 include_top=False,\n",
    "                                                 weights='imagenet')\n",
    "\n",
    "\n",
    "# Load data and split into training and validation sets\n",
    "train_datagen = tf.keras.preprocessing.image.ImageDataGenerator(rescale=1. / 255,)\n",
    "val_datagen = tf.keras.preprocessing.image.ImageDataGenerator(rescale=1. / 255)\n",
    "test_datagen = tf.keras.preprocessing.image.ImageDataGenerator(rescale=1. / 255)\n",
    "\n",
    "train_generator = train_datagen.flow_from_directory(train_data_dir,\n",
    "                                                    target_size=(IMAGE_SIZE, IMAGE_SIZE),\n",
    "                                                    batch_size=BATCH_SIZE,\n",
    "                                                    class_mode='categorical')\n",
    "\n",
    "val_generator = val_datagen.flow_from_directory(validation_data_dir,\n",
    "                                                target_size=(IMAGE_SIZE, IMAGE_SIZE),\n",
    "                                                batch_size=16,\n",
    "                                                class_mode='categorical')\n",
    "\n",
    "test_generator = test_datagen.flow_from_directory(test_data_dir,\n",
    "                                                target_size=(IMAGE_SIZE, IMAGE_SIZE),\n",
    "                                                batch_size=16,\n",
    "                                                shuffle=False,\n",
    "                                                class_mode='categorical')"
   ]
  },
  {
   "cell_type": "code",
   "execution_count": 3,
   "metadata": {},
   "outputs": [
    {
     "name": "stderr",
     "output_type": "stream",
     "text": [
      "C:\\Users\\abdel\\AppData\\Roaming\\Python\\Python39\\site-packages\\tensorflow\\python\\keras\\optimizer_v2\\optimizer_v2.py:374: UserWarning: The `lr` argument is deprecated, use `learning_rate` instead.\n",
      "  warnings.warn(\n"
     ]
    }
   ],
   "source": [
    "# Add a global average pooling layer and a dense output layer\n",
    "#Model 1\n",
    "# for layer in mobilenet_v2.layers[:-4]:\n",
    "#     layer.trainable = False\n",
    "    \n",
    "# global_average_layer = tf.keras.layers.GlobalAveragePooling2D()(mobilenet_v2.output)\n",
    "# flatten = tf.keras.layers.Flatten()(global_average_layer)\n",
    "# dense1 = tf.keras.layers.Dense(512, 'relu')(flatten)\n",
    "# dropout1 = tf.keras.layers.Dropout(0.5)(dense1)\n",
    "# dense2 = tf.keras.layers.Dense(256, 'relu')(dropout1)\n",
    "# dropout2 = tf.keras.layers.Dropout(0.5)(dense2)\n",
    "# output_layer = tf.keras.layers.Dense(NUM_CLASSES, activation='softmax')(dropout2)\n",
    "# ----------------------------------------\n",
    "#Model 2\n",
    "for layer in mobilenet_v2.layers[:-5]:\n",
    "    layer.trainable = False\n",
    "\n",
    "global_average_layer = tf.keras.layers.GlobalAveragePooling2D()(mobilenet_v2.output)\n",
    "output_layer = tf.keras.layers.Dense(NUM_CLASSES, activation='softmax')(global_average_layer)\n",
    "model = tf.keras.models.Model(inputs=mobilenet_v2.input, outputs=output_layer)\n",
    "# ----------------------------------------\n",
    "#Model 3\n",
    "# base_model = tf.keras.applications.MobileNetV2(input_shape=(IMAGE_SIZE, IMAGE_SIZE, 3),\n",
    "#                          include_top=False,\n",
    "#                          weights='imagenet')\n",
    "\n",
    "# # freeze the base model layers\n",
    "# base_model.trainable = False\n",
    "\n",
    "# # add the classification head\n",
    "# model = tf.keras.Sequential([\n",
    "#     base_model,\n",
    "#     tf.keras.layers.GlobalAveragePooling2D(),\n",
    "#     tf.keras.layers.Dense(5, activation='softmax')\n",
    "# ])\n",
    "# Define the model\n",
    "\n",
    "# Compile the model\n",
    "model.compile(optimizer=tf.keras.optimizers.Adam(lr=LEARNING_RATE),\n",
    "              loss='categorical_crossentropy',\n",
    "              metrics=['accuracy'])"
   ]
  },
  {
   "cell_type": "code",
   "execution_count": 4,
   "metadata": {},
   "outputs": [
    {
     "name": "stdout",
     "output_type": "stream",
     "text": [
      "Epoch 1/10\n",
      "1839/1839 [==============================] - 3685s 2s/step - loss: 0.9064 - accuracy: 0.6510 - val_loss: 5.2809 - val_accuracy: 0.4421\n",
      "\n",
      "Testing loss: 4.731258392333984, accuracy: 0.47308868169784546\n",
      "\n",
      "Epoch 2/10\n",
      "1839/1839 [==============================] - 152s 83ms/step - loss: 0.7399 - accuracy: 0.7166 - val_loss: 1.8557 - val_accuracy: 0.6066\n",
      "\n",
      "Testing loss: 1.1841779947280884, accuracy: 0.7061161994934082\n",
      "\n",
      "Epoch 3/10\n",
      "1839/1839 [==============================] - 170s 92ms/step - loss: 0.6728 - accuracy: 0.7397 - val_loss: 0.7675 - val_accuracy: 0.7454\n",
      "\n",
      "Testing loss: 0.5218465328216553, accuracy: 0.8426605463027954\n",
      "\n",
      "Epoch 4/10\n",
      "1839/1839 [==============================] - 156s 85ms/step - loss: 0.6309 - accuracy: 0.7570 - val_loss: 0.9496 - val_accuracy: 0.6789\n",
      "\n",
      "Testing loss: 0.8173328638076782, accuracy: 0.7444953918457031\n",
      "\n",
      "Epoch 5/10\n",
      "1839/1839 [==============================] - 129s 70ms/step - loss: 0.5927 - accuracy: 0.7715 - val_loss: 0.6990 - val_accuracy: 0.7637\n",
      "\n",
      "Testing loss: 0.4110989272594452, accuracy: 0.8626911044120789\n",
      "\n",
      "Epoch 6/10\n",
      "1839/1839 [==============================] - 118s 64ms/step - loss: 0.5587 - accuracy: 0.7873 - val_loss: 0.8139 - val_accuracy: 0.7323\n",
      "\n",
      "Testing loss: 0.6081723570823669, accuracy: 0.8230887055397034\n",
      "\n",
      "Epoch 7/10\n",
      "1839/1839 [==============================] - 162s 88ms/step - loss: 0.5328 - accuracy: 0.7940 - val_loss: 0.6768 - val_accuracy: 0.7653\n",
      "\n",
      "Testing loss: 0.4255090653896332, accuracy: 0.8622323870658875\n",
      "\n",
      "Epoch 8/10\n",
      "1839/1839 [==============================] - 156s 85ms/step - loss: 0.5042 - accuracy: 0.8071 - val_loss: 0.6075 - val_accuracy: 0.7761\n",
      "\n",
      "Testing loss: 0.347541868686676, accuracy: 0.8802752494812012\n",
      "\n",
      "Epoch 9/10\n",
      "1839/1839 [==============================] - 154s 84ms/step - loss: 0.4783 - accuracy: 0.8151 - val_loss: 0.7534 - val_accuracy: 0.7557\n",
      "\n",
      "Testing loss: 0.5503142476081848, accuracy: 0.8388379216194153\n",
      "\n",
      "Epoch 10/10\n",
      "1839/1839 [==============================] - 141s 76ms/step - loss: 0.4545 - accuracy: 0.8264 - val_loss: 0.7550 - val_accuracy: 0.7558\n",
      "\n",
      "Testing loss: 0.483910471200943, accuracy: 0.8551988005638123\n",
      "\n"
     ]
    }
   ],
   "source": [
    "# x_train, x_val, y_train, y_val = train_test_split(data[0][0], data[0][1], test_size=0.2, random_state=42)\n",
    "# print(x_train.shape, x_val.shape)\n",
    "# train_generator = tf.data.Dataset.from_tensor_slices((x_train, y_train))\n",
    "# train_generator = train_generator.shuffle(buffer_size=1024).batch(BATCH_SIZE)\n",
    "\n",
    "# val_generator = tf.data.Dataset.from_tensor_slices((x_val, y_val))\n",
    "# val_generator = val_generator.batch(BATCH_SIZE)\n",
    "\n",
    "# Train the model\n",
    "from tensorflow.keras.callbacks import ReduceLROnPlateau, EarlyStopping\n",
    "\n",
    "class EvaluateEpochEnd(tf.keras.callbacks.Callback):\n",
    "    def __init__(self, test_data):\n",
    "        self.test_data = test_data\n",
    "\n",
    "    def on_epoch_end(self, epoch, logs={}):\n",
    "        \n",
    "        scores = self.model.evaluate(self.test_data, verbose=False)\n",
    "        print('\\nTesting loss: {}, accuracy: {}\\n'.format(scores[0], scores[1]))\n",
    "\n",
    "reduce_lr = ReduceLROnPlateau(monitor='val_loss', factor=0.2, patience=3, verbose=1, min_lr=1e-6)\n",
    "early_stop = EarlyStopping(monitor='val_loss', patience=5)\n",
    "\n",
    "callbacks=[reduce_lr, early_stop, EvaluateEpochEnd(test_generator)]\n",
    "history = model.fit(train_generator,\n",
    "                    steps_per_epoch=len(train_generator),\n",
    "                    epochs=10,\n",
    "                    validation_data=val_generator,\n",
    "                    validation_steps=len(val_generator),\n",
    "                    callbacks=callbacks)"
   ]
  },
  {
   "cell_type": "code",
   "execution_count": 5,
   "metadata": {},
   "outputs": [
    {
     "name": "stdout",
     "output_type": "stream",
     "text": [
      "409/409 [==============================] - 9s 23ms/step - loss: 0.4839 - accuracy: 0.8552\n",
      "Test loss: 0.483910471200943\n",
      "Test accuracy: 0.8551988005638123\n"
     ]
    }
   ],
   "source": [
    "test_loss, test_accuracy = model.evaluate(test_generator, steps=len(test_generator))\n",
    "\n",
    "print('Test loss:', test_loss)\n",
    "print('Test accuracy:', test_accuracy)"
   ]
  },
  {
   "cell_type": "code",
   "execution_count": 7,
   "metadata": {},
   "outputs": [
    {
     "name": "stdout",
     "output_type": "stream",
     "text": [
      "accuracy score 0.8551987767584098\n",
      "              precision    recall  f1-score   support\n",
      "\n",
      "           0       0.89      0.66      0.76       838\n",
      "           1       0.81      0.86      0.83      1203\n",
      "           2       0.89      0.87      0.88      2039\n",
      "           3       0.94      0.91      0.93      1480\n",
      "           4       0.74      0.91      0.81       980\n",
      "\n",
      "    accuracy                           0.86      6540\n",
      "   macro avg       0.85      0.84      0.84      6540\n",
      "weighted avg       0.86      0.86      0.85      6540\n",
      "\n"
     ]
    },
    {
     "data": {
      "image/png": "[encoded data removed]",
      "text/plain": [
       "<Figure size 720x576 with 2 Axes>"
      ]
     },
     "metadata": {
      "needs_background": "light"
     },
     "output_type": "display_data"
    }
   ],
   "source": [
    "from sklearn.metrics import confusion_matrix, f1_score, classification_report, accuracy_score\n",
    "import numpy as np\n",
    "import matplotlib.pyplot as plt\n",
    "import seaborn as sns\n",
    "\n",
    "Y_pred = model.predict(test_generator)\n",
    "y_pred = np.argmax(Y_pred, axis=1)\n",
    "y_true = test_generator.classes\n",
    "class_names = [0, 1, 2, 3, 4]\n",
    "print('accuracy score', accuracy_score(y_true, y_pred))\n",
    "confusion_mtx = confusion_matrix(y_true, y_pred)\n",
    "fig, ax = plt.subplots(figsize=(10, 8))\n",
    "cr = classification_report(y_true, y_pred)\n",
    "print(cr)\n",
    "sns.heatmap(confusion_mtx, annot=True, cmap=\"Blues\", xticklabels=class_names, yticklabels=class_names, ax=ax)\n",
    "ax.set_xlabel('Predicted labels')\n",
    "ax.set_ylabel('True labels')\n",
    "ax.set_title('Confusion Matrix')\n",
    "plt.show()"
   ]
  },
  {
   "cell_type": "code",
   "execution_count": 8,
   "metadata": {},
   "outputs": [
    {
     "name": "stdout",
     "output_type": "stream",
     "text": [
      "[[ 552   49   42   24  171]\n",
      " [  15 1029  131   16   12]\n",
      " [   3  155 1772    9  100]\n",
      " [  37   36   21 1350   36]\n",
      " [  14    7   34   35  890]]\n"
     ]
    }
   ],
   "source": [
    "print(confusion_mtx)"
   ]
  },
  {
   "cell_type": "code",
   "execution_count": null,
   "metadata": {},
   "outputs": [],
   "source": []
  }
 ],
 "metadata": {
  "kernelspec": {
   "display_name": "tensorflow",
   "language": "python",
   "name": "python3"
  },
  "language_info": {
   "codemirror_mode": {
    "name": "ipython",
    "version": 3
   },
   "file_extension": ".py",
   "mimetype": "text/x-python",
   "name": "python",
   "nbconvert_exporter": "python",
   "pygments_lexer": "ipython3",
   "version": "3.9.12"
  },
  "orig_nbformat": 4
 },
 "nbformat": 4,
 "nbformat_minor": 2
}
