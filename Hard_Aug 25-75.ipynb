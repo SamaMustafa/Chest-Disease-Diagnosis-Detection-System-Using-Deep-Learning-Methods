{
 "cells": [
  {
   "cell_type": "code",
   "execution_count": 1,
   "metadata": {},
   "outputs": [
    {
     "name": "stderr",
     "output_type": "stream",
     "text": [
      "c:\\Users\\abdel\\.conda\\envs\\tensorflow\\lib\\site-packages\\numpy\\_distributor_init.py:30: UserWarning: loaded more than 1 DLL from .libs:\n",
      "c:\\Users\\abdel\\.conda\\envs\\tensorflow\\lib\\site-packages\\numpy\\.libs\\libopenblas.FB5AE2TYXYH2IJRDKGDGQ3XBKLKTF43H.gfortran-win_amd64.dll\n",
      "c:\\Users\\abdel\\.conda\\envs\\tensorflow\\lib\\site-packages\\numpy\\.libs\\libopenblas.NOIJJG62EMASZI6NYURL6JBKM4EVBGM7.gfortran-win_amd64.dll\n",
      "  warnings.warn(\"loaded more than 1 DLL from .libs:\"\n"
     ]
    }
   ],
   "source": [
    "from tensorflow.keras.preprocessing.image import img_to_array\n",
    "import tensorflow\n",
    "\n",
    "from sklearn.model_selection import train_test_split\n",
    "from sklearn.metrics import classification_report\n",
    "from imutils import paths\n",
    "\n",
    "import numpy as np\n",
    "import random\n",
    "import cv2\n",
    "import os\n",
    "import matplotlib.pyplot as plt\n",
    "%matplotlib inline"
   ]
  },
  {
   "cell_type": "code",
   "execution_count": 2,
   "metadata": {},
   "outputs": [],
   "source": [
    "def seed_everything(seed=42):\n",
    "    # Random state is steady among the data\n",
    "    os.environ['PYTHONHASHSEED'] = str(seed)\n",
    "    random.seed(seed)\n",
    "    np.random.seed(seed)\n",
    "\n",
    "def find_indices(array, value):\n",
    "    return np.where(array == value)[0]"
   ]
  },
  {
   "attachments": {},
   "cell_type": "markdown",
   "metadata": {},
   "source": [
    "# Read test dataset and the number of elements in each class"
   ]
  },
  {
   "cell_type": "code",
   "execution_count": 3,
   "metadata": {},
   "outputs": [
    {
     "data": {
      "text/plain": [
       "array([ 838, 1203, 2039, 1480,  980], dtype=int64)"
      ]
     },
     "execution_count": 3,
     "metadata": {},
     "output_type": "execute_result"
    }
   ],
   "source": [
    "data_test = np.load('Dataset5_raw_test.npz')\n",
    "image_test, image_label_test = data_test['image'].astype(np.uint8), data_test['image_label'].astype(np.int8)\n",
    "unique, counts = np.unique(image_label_test, return_counts=True)\n",
    "counts"
   ]
  },
  {
   "attachments": {},
   "cell_type": "markdown",
   "metadata": {},
   "source": [
    "# Read train and valid dataset and make it balanced"
   ]
  },
  {
   "cell_type": "code",
   "execution_count": 4,
   "metadata": {},
   "outputs": [],
   "source": [
    "data_train = np.load('Dataset5_raw_train.npz')\n",
    "image_train, image_label_train = data_train['image'].astype(np.uint8), data_train['image_label'].astype(np.int8)"
   ]
  },
  {
   "cell_type": "code",
   "execution_count": 5,
   "metadata": {},
   "outputs": [
    {
     "data": {
      "text/plain": [
       "array([2326, 2326, 2326, 2326, 2326], dtype=int64)"
      ]
     },
     "execution_count": 5,
     "metadata": {},
     "output_type": "execute_result"
    }
   ],
   "source": [
    "X_train, y_train = image_train[:2326], image_label_train[:2326]\n",
    "for i in range(1, 5):\n",
    "    seed_everything()\n",
    "    train1_ind = find_indices(image_label_train, i)\n",
    "    np.random.shuffle(train1_ind)\n",
    "    X_train = np.concatenate([X_train, image_train[train1_ind[:2326]]])\n",
    "    y_train = np.concatenate([y_train, image_label_train[train1_ind[:2326]]])\n",
    "\n",
    "unique, counts = np.unique(y_train, return_counts=True)\n",
    "counts"
   ]
  },
  {
   "cell_type": "code",
   "execution_count": 6,
   "metadata": {},
   "outputs": [
    {
     "data": {
      "text/plain": [
       "array([ 836, 1202, 2038, 1479,  979], dtype=int64)"
      ]
     },
     "execution_count": 6,
     "metadata": {},
     "output_type": "execute_result"
    }
   ],
   "source": [
    "data_val = np.load('Dataset5_raw_val.npz')\n",
    "image_val, image_label_val = data_val['image'].astype(np.uint8), data_val['image_label'].astype(np.int8)\n",
    "unique, counts = np.unique(image_label_val, return_counts=True)\n",
    "counts"
   ]
  },
  {
   "cell_type": "code",
   "execution_count": 7,
   "metadata": {},
   "outputs": [
    {
     "data": {
      "text/plain": [
       "array([836, 836, 836, 836, 836], dtype=int64)"
      ]
     },
     "execution_count": 7,
     "metadata": {},
     "output_type": "execute_result"
    }
   ],
   "source": [
    "X_val, y_val = image_val[:836], image_label_val[:836]\n",
    "for i in range(1, 5):\n",
    "    seed_everything()\n",
    "    val1_ind = find_indices(image_label_val, i)\n",
    "    np.random.shuffle(val1_ind)\n",
    "    X_val = np.concatenate([X_val, image_val[val1_ind[:836]]])\n",
    "    y_val = np.concatenate([y_val, image_label_val[val1_ind[:836]]])\n",
    "    \n",
    "unique, counts = np.unique(y_val, return_counts=True)\n",
    "counts"
   ]
  },
  {
   "cell_type": "code",
   "execution_count": 17,
   "metadata": {},
   "outputs": [
    {
     "name": "stdout",
     "output_type": "stream",
     "text": [
      "[3162 3162 3162 3162 3162]\n"
     ]
    }
   ],
   "source": [
    "#Combining\n",
    "image_total = np.concatenate([X_train, X_val])\n",
    "label_total = np.concatenate([y_train, y_val])\n",
    "unique, counts = np.unique(label_total, return_counts=True)\n",
    "print(counts)\n",
    "# del X_train, X_val, y_train, y_val, image_train, image_label_train, image_val, image_label_val"
   ]
  },
  {
   "cell_type": "code",
   "execution_count": 16,
   "metadata": {},
   "outputs": [
    {
     "data": {
      "text/plain": [
       "array([[0],\n",
       "       [0],\n",
       "       [0],\n",
       "       ...,\n",
       "       [0],\n",
       "       [0],\n",
       "       [0]], dtype=int8)"
      ]
     },
     "execution_count": 16,
     "metadata": {},
     "output_type": "execute_result"
    }
   ],
   "source": [
    "label_total[:1500]"
   ]
  },
  {
   "cell_type": "code",
   "execution_count": 19,
   "metadata": {},
   "outputs": [
    {
     "data": {
      "text/plain": [
       "array([1500, 1500, 1500, 1500, 1500], dtype=int64)"
      ]
     },
     "execution_count": 19,
     "metadata": {},
     "output_type": "execute_result"
    }
   ],
   "source": [
    "X_total, y_total = image_total[:1962], label_total[:1962]\n",
    "for i in range(1, 5):\n",
    "    seed_everything()\n",
    "    val1_ind = find_indices(label_total, i)\n",
    "    np.random.shuffle(val1_ind)\n",
    "    X_total = np.concatenate([X_total, image_total[val1_ind[:1962]]])\n",
    "    y_total = np.concatenate([y_total, label_total[val1_ind[:1962]]])\n",
    "    \n",
    "unique, counts = np.unique(y_total, return_counts=True)\n",
    "counts"
   ]
  },
  {
   "attachments": {},
   "cell_type": "markdown",
   "metadata": {},
   "source": [
    "# Hard Augmentation"
   ]
  },
  {
   "cell_type": "code",
   "execution_count": 25,
   "metadata": {},
   "outputs": [],
   "source": [
    "import albumentations as A\n",
    "COUNT_TEST = 1\n",
    "COUNT_TRAIN = 1\n",
    "COUNT_VAL = 1\n",
    "## DO NOT RUN\n",
    "#### Test dataset resizing only.\n",
    "# for img, y in zip(image_test, image_label_test):\n",
    "#   # img = cv2.cvtColor(x, cv2.COLOR_RGB2GRAY)\n",
    "#   y_str = str(y[0])\n",
    "#   resizeTransform = A.Compose([A.Resize(height=160, width=160, interpolation=1)], p=1)\n",
    "#   new_img = resizeTransform(image = img)['image']\n",
    "#   folder_to_save_img = \"Images/Test\"\n",
    "#   name_of_augmented_file = f\"{COUNT_TEST}.jpg\"\n",
    "#   cv2.imwrite(f\"{folder_to_save_img}/{y_str}/{name_of_augmented_file}\", new_img)\n",
    "#   COUNT_TEST+=1\n",
    "\n",
    "\n",
    "#### Valid dataset imbalanced, Every image is resized and saved + Every image is augmented and saved\n",
    "#### First point of view, Valid dataset isn't touched like the test, but can be augmented unlike test.\n",
    "#### Second point of view, Valid dataset can be combined with train dataset then reshuffled to train and validation so both sources \n",
    "#### -are united.\n",
    "print(\"Done Testing\")\n",
    "\n",
    "for img, y in zip(X_val, y_val): #Imbalanced: image_val, image_label_val, Balanced: X_val, y_val\n",
    "  y_str = str(y[0])\n",
    "  for i in range(2):\n",
    "    resizeTransform = A.Compose([A.Resize(height=160, width=160, interpolation=1)], p=1)\n",
    "    new_img = resizeTransform(image = img)['image']\n",
    "    transform = A.Compose([\n",
    "      A.ImageCompression(quality_lower = 92, quality_upper=100, p=0.7),\n",
    "      A.GaussNoise(p=0.1),\n",
    "      A.ColorJitter(brightness=0.2, contrast=0.2, saturation=0.2, hue=0.2, always_apply=False, p=0.5),\n",
    "      A.Flip(p = 0.4),\n",
    "      A.OneOf([\n",
    "        A.GaussianBlur(blur_limit=(1,3), sigma_limit=0, p=0.7),\n",
    "        A.MedianBlur(blur_limit=(1,3), always_apply=False, p=0.3),\n",
    "      ], p = 0.6),\n",
    "      A.OneOf([\n",
    "        A.Rotate(limit=180, interpolation=1, border_mode=4, always_apply=False, p=0.7),\n",
    "        A.Rotate(limit=180, interpolation=1, border_mode=0, always_apply=False, p=0.3),\n",
    "      ], p = 0.7),\n",
    "      A.OneOf([\n",
    "        A.Affine(scale = 1.4, translate_percent= None,shear = None, p=0.5),\n",
    "        A.Affine(scale = None,translate_percent= 0.1, shear = None, p=0.25),\n",
    "        A.Affine(scale = None,translate_percent= None,shear = (10,10), p=0.25), \n",
    "      ], p = 0.5),  \n",
    "    ], \n",
    "    p = 0.9)\n",
    "\n",
    "    aug = transform(image = new_img)[\"image\"] \n",
    "    folder_to_save_img = \"Images/BALANCED/Valid\"\n",
    "    name_of_augmented_file = f\"{COUNT_VAL}.jpg\"\n",
    "    if i == 0:\n",
    "      image_to_save = new_img\n",
    "    else:\n",
    "      image_to_save = aug\n",
    "    cv2.imwrite(f\"{folder_to_save_img}/{y_str}/{name_of_augmented_file}\", image_to_save)\n",
    "    COUNT_VAL+=1\n",
    "print(\"Done Validation\")\n",
    "\n",
    "#### For every image, there are 2 augmented + 1 original\n",
    "#### Train is imbalanced, if we used X_train, y_train then the dataset would be balanced\n",
    "for img, y in zip(X_train, y_train): #Imbalanced: image_train, image_label_train, Balanced: X_train, y_train\n",
    "  y_str = str(y[0])\n",
    "  #img = cv2.cvtColor(img, cv2.COLOR_BGR2RGB) NO NEED TO CONVERT BGR TO RGB\n",
    "  for i in range(3):\n",
    "    resizeTransform = A.Compose([A.Resize(height=160, width=160, interpolation=1)], p=1)\n",
    "    new_img = resizeTransform(image = img)['image']\n",
    "    transform = A.Compose([\n",
    "      A.ImageCompression(quality_lower = 80, quality_upper=100, p=0.7),\n",
    "      A.GaussNoise(p=0.1),\n",
    "      A.ColorJitter(brightness=0.2, contrast=0.2, saturation=0.2, hue=0.2, always_apply=False, p=0.5),\n",
    "      A.Flip(p = 0.4),\n",
    "      A.OneOf([\n",
    "        A.GaussianBlur(blur_limit=(1,3), sigma_limit=0, p=0.7),\n",
    "        A.MedianBlur(blur_limit=(1,3), always_apply=False, p=0.3),\n",
    "      ], p = 0.6),\n",
    "      A.OneOf([\n",
    "        A.Rotate(limit=180, interpolation=1, border_mode=4, always_apply=False, p=0.7),\n",
    "        A.Rotate(limit=180, interpolation=1, border_mode=0, always_apply=False, p=0.3),\n",
    "      ], p = 0.7),\n",
    "      A.OneOf([\n",
    "        A.Affine(scale = 1.4, translate_percent= None,shear = None, p=0.5),\n",
    "        A.Affine(scale = None,translate_percent= 0.1, shear = None, p=0.25),\n",
    "        A.Affine(scale = None,translate_percent= None,shear = (10,10), p=0.25), \n",
    "      ], p = 0.5),  \n",
    "    ], \n",
    "    p = 0.9)\n",
    "\n",
    "    aug = transform(image = new_img)[\"image\"] \n",
    "    folder_to_save_img = \"Images/BALANCED/Train\"\n",
    "    name_of_augmented_file = f\"{COUNT_TRAIN}.jpg\"\n",
    "    if i == 0:\n",
    "      image_to_save = new_img\n",
    "    else:\n",
    "      image_to_save = aug\n",
    "    cv2.imwrite(f\"{folder_to_save_img}/{y_str}/{name_of_augmented_file}\", image_to_save)\n",
    "    COUNT_TRAIN+=1\n",
    "print(\"Done Training\")"
   ]
  },
  {
   "attachments": {},
   "cell_type": "markdown",
   "metadata": {},
   "source": [
    "# Number of elements in each class after the augmentation "
   ]
  },
  {
   "cell_type": "code",
   "execution_count": 27,
   "metadata": {},
   "outputs": [
    {
     "name": "stdout",
     "output_type": "stream",
     "text": [
      "0: \n",
      "3000\n",
      "1: \n",
      "3000\n",
      "2: \n",
      "3000\n",
      "3: \n",
      "3000\n",
      "4: \n",
      "3000\n",
      "total: 15000\n"
     ]
    }
   ],
   "source": [
    "sum = 0\n",
    "for i in range(5):\n",
    "    sum = sum + len(os.listdir(f'Images\\Soft Aug\\Soft_Aug 30-70/Train/{i}'))\n",
    "    print(f'{i}: ')\n",
    "    print(len(os.listdir(f'Images\\Soft Aug\\Soft_Aug 30-70/Train/{i}')))\n",
    "print(f'total: {sum}')\n"
   ]
  }
 ],
 "metadata": {
  "kernelspec": {
   "display_name": "tensorflow",
   "language": "python",
   "name": "python3"
  },
  "language_info": {
   "codemirror_mode": {
    "name": "ipython",
    "version": 3
   },
   "file_extension": ".py",
   "mimetype": "text/x-python",
   "name": "python",
   "nbconvert_exporter": "python",
   "pygments_lexer": "ipython3",
   "version": "3.9.12"
  },
  "orig_nbformat": 4
 },
 "nbformat": 4,
 "nbformat_minor": 2
}
