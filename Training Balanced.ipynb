{
 "cells": [
  {
   "cell_type": "code",
   "execution_count": 3,
   "metadata": {},
   "outputs": [],
   "source": [
    "import tensorflow as tf\n",
    "import tensorflow_hub as hub\n",
    "import numpy as np\n",
    "import os\n",
    "from sklearn.model_selection import train_test_split"
   ]
  },
  {
   "cell_type": "code",
   "execution_count": 2,
   "metadata": {},
   "outputs": [
    {
     "name": "stdout",
     "output_type": "stream",
     "text": [
      "Found 37680 images belonging to 5 classes.\n",
      "Found 8360 images belonging to 5 classes.\n",
      "Found 6540 images belonging to 5 classes.\n"
     ]
    }
   ],
   "source": [
    "# Define data path\n",
    "train_data_dir = \"Images/BALANCED/Train\"\n",
    "validation_data_dir = \"Images/BALANCED/Valid\"\n",
    "test_data_dir = \"Images/BALANCED/Test\"\n",
    "\n",
    "\n",
    "# Define hyperparameters\n",
    "IMAGE_SIZE = 160\n",
    "BATCH_SIZE = 32\n",
    "LEARNING_RATE = 0.001\n",
    "NUM_EPOCHS = 30\n",
    "NUM_CLASSES = 5\n",
    "# Load MobileNet V2 pre-trained model\n",
    "mobilenet_v2 = tf.keras.applications.MobileNetV2(input_shape=(IMAGE_SIZE, IMAGE_SIZE, 3),\n",
    "                                                 include_top=False,\n",
    "                                                 weights='imagenet')\n",
    "\n",
    "\n",
    "# Load data and split into training and validation sets\n",
    "train_datagen = tf.keras.preprocessing.image.ImageDataGenerator(rescale=1. / 255,)\n",
    "val_datagen = tf.keras.preprocessing.image.ImageDataGenerator(rescale=1. / 255)\n",
    "test_datagen = tf.keras.preprocessing.image.ImageDataGenerator(rescale=1. / 255)\n",
    "\n",
    "train_generator = train_datagen.flow_from_directory(train_data_dir,\n",
    "                                                    target_size=(IMAGE_SIZE, IMAGE_SIZE),\n",
    "                                                    batch_size=BATCH_SIZE,\n",
    "                                                    class_mode='categorical')\n",
    "\n",
    "val_generator = val_datagen.flow_from_directory(validation_data_dir,\n",
    "                                                target_size=(IMAGE_SIZE, IMAGE_SIZE),\n",
    "                                                batch_size=16,\n",
    "                                                class_mode='categorical')\n",
    "\n",
    "test_generator = test_datagen.flow_from_directory(test_data_dir,\n",
    "                                                target_size=(IMAGE_SIZE, IMAGE_SIZE),\n",
    "                                                batch_size=16,\n",
    "                                                shuffle=False,\n",
    "                                                class_mode='categorical')"
   ]
  },
  {
   "cell_type": "code",
   "execution_count": 4,
   "metadata": {},
   "outputs": [
    {
     "name": "stderr",
     "output_type": "stream",
     "text": [
      "C:\\Users\\abdel\\AppData\\Roaming\\Python\\Python39\\site-packages\\tensorflow\\python\\keras\\optimizer_v2\\optimizer_v2.py:374: UserWarning: The `lr` argument is deprecated, use `learning_rate` instead.\n",
      "  warnings.warn(\n"
     ]
    }
   ],
   "source": [
    "# Add a global average pooling layer and a dense output layer\n",
    "#Model 1\n",
    "# for layer in mobilenet_v2.layers[:-4]:\n",
    "#     layer.trainable = False\n",
    "    \n",
    "# global_average_layer = tf.keras.layers.GlobalAveragePooling2D()(mobilenet_v2.output)\n",
    "# flatten = tf.keras.layers.Flatten()(global_average_layer)\n",
    "# dense1 = tf.keras.layers.Dense(512, 'relu')(flatten)\n",
    "# dropout1 = tf.keras.layers.Dropout(0.5)(dense1)\n",
    "# dense2 = tf.keras.layers.Dense(256, 'relu')(dropout1)\n",
    "# dropout2 = tf.keras.layers.Dropout(0.5)(dense2)\n",
    "# output_layer = tf.keras.layers.Dense(NUM_CLASSES, activation='softmax')(dropout2)\n",
    "# ----------------------------------------\n",
    "#Model 2\n",
    "for layer in mobilenet_v2.layers[:-5]:\n",
    "    layer.trainable = False\n",
    "\n",
    "global_average_layer = tf.keras.layers.GlobalAveragePooling2D()(mobilenet_v2.output)\n",
    "dropout1 = tf.keras.layers.Dropout(0.5)(global_average_layer)\n",
    "output_layer = tf.keras.layers.Dense(NUM_CLASSES, activation='softmax')(dropout1)\n",
    "model = tf.keras.models.Model(inputs=mobilenet_v2.input, outputs=output_layer)\n",
    "# ----------------------------------------\n",
    "#Model 3\n",
    "# base_model = tf.keras.applications.MobileNetV2(input_shape=(IMAGE_SIZE, IMAGE_SIZE, 3),\n",
    "#                          include_top=False,\n",
    "#                          weights='imagenet')\n",
    "\n",
    "# # freeze the base model layers\n",
    "# base_model.trainable = False\n",
    "\n",
    "# # add the classification head\n",
    "# model = tf.keras.Sequential([\n",
    "#     base_model,\n",
    "#     tf.keras.layers.GlobalAveragePooling2D(),\n",
    "#     tf.keras.layers.Dense(5, activation='softmax')\n",
    "# ])\n",
    "# Define the model\n",
    "\n",
    "# Compile the model\n",
    "model.compile(optimizer=tf.keras.optimizers.Adam(lr=LEARNING_RATE),\n",
    "              loss='categorical_crossentropy',\n",
    "              metrics=['accuracy'])"
   ]
  },
  {
   "attachments": {},
   "cell_type": "markdown",
   "metadata": {},
   "source": [
    "# Balanced Run"
   ]
  },
  {
   "cell_type": "code",
   "execution_count": 5,
   "metadata": {},
   "outputs": [
    {
     "name": "stdout",
     "output_type": "stream",
     "text": [
      "Epoch 1/10\n",
      "1178/1178 [==============================] - 1121s 944ms/step - loss: 1.0027 - accuracy: 0.6059 - val_loss: 15.9467 - val_accuracy: 0.2004\n",
      "\n",
      "Testing loss: 14.965644836425781, accuracy: 0.1848623901605606\n",
      "\n",
      "Epoch 2/10\n",
      "1178/1178 [==============================] - 60s 51ms/step - loss: 0.8314 - accuracy: 0.6788 - val_loss: 6.3418 - val_accuracy: 0.2995\n",
      "\n",
      "Testing loss: 5.132598876953125, accuracy: 0.31238532066345215\n",
      "\n",
      "Epoch 3/10\n",
      "1178/1178 [==============================] - 60s 51ms/step - loss: 0.7458 - accuracy: 0.7119 - val_loss: 3.6444 - val_accuracy: 0.4608\n",
      "\n",
      "Testing loss: 2.382643222808838, accuracy: 0.5775229334831238\n",
      "\n",
      "Epoch 4/10\n",
      "1178/1178 [==============================] - 61s 52ms/step - loss: 0.6943 - accuracy: 0.7307 - val_loss: 1.6722 - val_accuracy: 0.5889\n",
      "\n",
      "Testing loss: 1.3186036348342896, accuracy: 0.6490825414657593\n",
      "\n",
      "Epoch 5/10\n",
      "1178/1178 [==============================] - 59s 50ms/step - loss: 0.6538 - accuracy: 0.7460 - val_loss: 1.1717 - val_accuracy: 0.6339\n",
      "\n",
      "Testing loss: 0.8490299582481384, accuracy: 0.7412844300270081\n",
      "\n",
      "Epoch 6/10\n",
      "1178/1178 [==============================] - 59s 50ms/step - loss: 0.6126 - accuracy: 0.7622 - val_loss: 1.3370 - val_accuracy: 0.6164\n",
      "\n",
      "Testing loss: 0.9526276588439941, accuracy: 0.7165137529373169\n",
      "\n",
      "Epoch 7/10\n",
      "1178/1178 [==============================] - 59s 50ms/step - loss: 0.5793 - accuracy: 0.7756 - val_loss: 0.8705 - val_accuracy: 0.7181\n",
      "\n",
      "Testing loss: 0.4628019332885742, accuracy: 0.8474006056785583\n",
      "\n",
      "Epoch 8/10\n",
      "1178/1178 [==============================] - 58s 49ms/step - loss: 0.5485 - accuracy: 0.7879 - val_loss: 0.7076 - val_accuracy: 0.7522\n",
      "\n",
      "Testing loss: 0.43711617588996887, accuracy: 0.8579510450363159\n",
      "\n",
      "Epoch 9/10\n",
      "1178/1178 [==============================] - 59s 50ms/step - loss: 0.5198 - accuracy: 0.7984 - val_loss: 0.6995 - val_accuracy: 0.7459\n",
      "\n",
      "Testing loss: 0.505889892578125, accuracy: 0.8302752375602722\n",
      "\n",
      "Epoch 10/10\n",
      "1178/1178 [==============================] - 66s 56ms/step - loss: 0.4882 - accuracy: 0.8101 - val_loss: 0.8407 - val_accuracy: 0.7329\n",
      "\n",
      "Testing loss: 0.5182581543922424, accuracy: 0.8451070189476013\n",
      "\n"
     ]
    }
   ],
   "source": [
    "# x_train, x_val, y_train, y_val = train_test_split(data[0][0], data[0][1], test_size=0.2, random_state=42)\n",
    "# print(x_train.shape, x_val.shape)\n",
    "# train_generator = tf.data.Dataset.from_tensor_slices((x_train, y_train))\n",
    "# train_generator = train_generator.shuffle(buffer_size=1024).batch(BATCH_SIZE)\n",
    "\n",
    "# val_generator = tf.data.Dataset.from_tensor_slices((x_val, y_val))\n",
    "# val_generator = val_generator.batch(BATCH_SIZE)\n",
    "\n",
    "# Train the model\n",
    "from tensorflow.keras.callbacks import ReduceLROnPlateau, EarlyStopping\n",
    "\n",
    "class EvaluateEpochEnd(tf.keras.callbacks.Callback):\n",
    "    def __init__(self, test_data):\n",
    "        self.test_data = test_data\n",
    "\n",
    "    def on_epoch_end(self, epoch, logs={}):\n",
    "        \n",
    "        scores = self.model.evaluate(self.test_data, verbose=False)\n",
    "        print('\\nTesting loss: {}, accuracy: {}\\n'.format(scores[0], scores[1]))\n",
    "\n",
    "reduce_lr = ReduceLROnPlateau(monitor='val_loss', factor=0.2, patience=3, verbose=1, min_lr=1e-6)\n",
    "early_stop = EarlyStopping(monitor='val_loss', patience=5)\n",
    "\n",
    "callbacks=[reduce_lr, early_stop, EvaluateEpochEnd(test_generator)]\n",
    "history = model.fit(train_generator,\n",
    "                    steps_per_epoch=len(train_generator),\n",
    "                    epochs=10,\n",
    "                    validation_data=val_generator,\n",
    "                    validation_steps=len(val_generator),\n",
    "                    callbacks=callbacks)"
   ]
  },
  {
   "cell_type": "code",
   "execution_count": 6,
   "metadata": {},
   "outputs": [
    {
     "name": "stdout",
     "output_type": "stream",
     "text": [
      "409/409 [==============================] - 10s 24ms/step - loss: 0.5183 - accuracy: 0.8451\n",
      "Test loss: 0.5182581543922424\n",
      "Test accuracy: 0.8451070189476013\n"
     ]
    }
   ],
   "source": [
    "test_loss, test_accuracy = model.evaluate(test_generator, steps=len(test_generator))\n",
    "\n",
    "print('Test loss:', test_loss)\n",
    "print('Test accuracy:', test_accuracy)"
   ]
  },
  {
   "cell_type": "code",
   "execution_count": 7,
   "metadata": {},
   "outputs": [
    {
     "name": "stdout",
     "output_type": "stream",
     "text": [
      "accuracy score 0.8451070336391437\n",
      "classification report                precision    recall  f1-score   support\n",
      "\n",
      "           0       0.82      0.80      0.81       838\n",
      "           1       0.74      0.90      0.81      1203\n",
      "           2       0.86      0.86      0.86      2039\n",
      "           3       0.91      0.90      0.90      1480\n",
      "           4       0.90      0.70      0.79       980\n",
      "\n",
      "    accuracy                           0.85      6540\n",
      "   macro avg       0.85      0.83      0.84      6540\n",
      "weighted avg       0.85      0.85      0.84      6540\n",
      "\n"
     ]
    },
    {
     "data": {
      "image/png": "[encoded data removed]",
      "text/plain": [
       "<Figure size 720x576 with 2 Axes>"
      ]
     },
     "metadata": {
      "needs_background": "light"
     },
     "output_type": "display_data"
    }
   ],
   "source": [
    "from sklearn.metrics import confusion_matrix, f1_score, classification_report, accuracy_score\n",
    "import numpy as np\n",
    "import matplotlib.pyplot as plt\n",
    "import seaborn as sns\n",
    "\n",
    "Y_pred = model.predict(test_generator)\n",
    "y_pred = np.argmax(Y_pred, axis=1)\n",
    "y_true = test_generator.classes\n",
    "class_names = [0, 1, 2, 3, 4]\n",
    "print('accuracy score', accuracy_score(y_true, y_pred))\n",
    "confusion_mtx = confusion_matrix(y_true, y_pred)\n",
    "fig, ax = plt.subplots(figsize=(10, 8))\n",
    "cr = classification_report(y_true, y_pred)\n",
    "print(cr)\n",
    "sns.heatmap(confusion_mtx, annot=True, cmap=\"Blues\", xticklabels=class_names, yticklabels=class_names, ax=ax)\n",
    "ax.set_xlabel('Predicted labels')\n",
    "ax.set_ylabel('True labels')\n",
    "ax.set_title('Confusion Matrix')\n",
    "plt.show()"
   ]
  },
  {
   "cell_type": "code",
   "execution_count": 8,
   "metadata": {},
   "outputs": [
    {
     "name": "stdout",
     "output_type": "stream",
     "text": [
      "[[ 671   54   49   38   26]\n",
      " [  17 1084   80   18    4]\n",
      " [  14  223 1757   23   22]\n",
      " [  43   69   16 1329   23]\n",
      " [  73   38  130   53  686]]\n"
     ]
    }
   ],
   "source": [
    "print(confusion_mtx)"
   ]
  }
 ],
 "metadata": {
  "kernelspec": {
   "display_name": "tensorflow",
   "language": "python",
   "name": "python3"
  },
  "language_info": {
   "codemirror_mode": {
    "name": "ipython",
    "version": 3
   },
   "file_extension": ".py",
   "mimetype": "text/x-python",
   "name": "python",
   "nbconvert_exporter": "python",
   "pygments_lexer": "ipython3",
   "version": "3.9.12"
  },
  "orig_nbformat": 4
 },
 "nbformat": 4,
 "nbformat_minor": 2
}
